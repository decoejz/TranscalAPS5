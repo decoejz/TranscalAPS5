{
 "cells": [
  {
   "cell_type": "markdown",
   "metadata": {},
   "source": [
    "## APS 5 - ANÁLISE DA DIFUSÃO DE UM POLUENTE EM UM RIO COM CORRENTEZA"
   ]
  },
  {
   "cell_type": "code",
   "execution_count": 1,
   "metadata": {},
   "outputs": [],
   "source": [
    "%matplotlib inline\n",
    "import numpy as np\n",
    "import matplotlib.pyplot as plt\n",
    "import math\n",
    "import matplotlib.animation as animation"
   ]
  },
  {
   "cell_type": "code",
   "execution_count": 2,
   "metadata": {},
   "outputs": [
    {
     "data": {
      "text/plain": [
       "100.0"
      ]
     },
     "execution_count": 2,
     "metadata": {},
     "output_type": "execute_result"
    }
   ],
   "source": [
    "#constantes\n",
    "deltaT = 30e-3\n",
    "deltaXY = 1\n",
    "T = 10\n",
    "\n",
    "alpha = 1 #Valor alpha\n",
    "K = 1 #coeficiente de difusão\n",
    "Q = 100.0\n",
    "Qc = Q / (round(deltaXY**2,2))\n",
    "Tq = 5\n",
    "\n",
    "n = 1\n",
    "\n",
    "X = np.arange(0,30+deltaXY,deltaXY)\n",
    "Y = np.arange(0,20+deltaXY,deltaXY)\n",
    "t = np.arange(0,T+deltaT,deltaT)\n",
    "\n",
    "nodeMatrix = np.zeros(shape =(len(X), len(Y)))\n",
    "\n",
    "a = (np.abs(X - n/1.4)).argmin()\n",
    "b = (np.abs(Y - 60/(5*n))).argmin()\n",
    "\n",
    "Qc"
   ]
  },
  {
   "cell_type": "code",
   "execution_count": 3,
   "metadata": {},
   "outputs": [],
   "source": [
    "def u(x,y):\n",
    "    return alpha\n",
    "\n",
    "def v(x,y):\n",
    "    return alpha * math.sin((math.pi/5)*x)"
   ]
  },
  {
   "cell_type": "code",
   "execution_count": 4,
   "metadata": {},
   "outputs": [],
   "source": [
    "def diff2Central(anterior, atual, prox, delta):\n",
    "    return ((prox -(2*atual) + anterior) / (round(delta**2,2)))\n",
    "\n",
    "def diffCentral(anterior, prox, delta):\n",
    "    return ((prox - anterior) /  (round(delta**2,2)))\n",
    "\n",
    "def diffAvancado(atual, prox, delta):\n",
    "    return ((prox - atual) / delta)"
   ]
  },
  {
   "cell_type": "code",
   "execution_count": null,
   "metadata": {},
   "outputs": [],
   "source": []
  },
  {
   "cell_type": "code",
   "execution_count": 5,
   "metadata": {},
   "outputs": [],
   "source": [
    "#Aplica a conta específica na lista de nodes\n",
    "def calcDiff2D(nodes_t, Qc):\n",
    "\n",
    "#     print(nodes_t)\n",
    "\n",
    "    for y in range(1,len(nodes_t)):\n",
    "        for x in range(1,len(nodes_t[0])):\n",
    "            \n",
    "\n",
    "                \n",
    "            if(x == 0):\n",
    "                nodes_t[y][x] = nodes_t[y][x+1]\n",
    "            elif(x == len(nodes_t[0])-1):\n",
    "                nodes_t[y][x] = nodes_t[y][x-1]\n",
    "            elif(y == 0):\n",
    "                nodes_t[y][x] = nodes_t[y+1][x]\n",
    "            elif(y == len(nodes_t)-1):\n",
    "                nodes_t[y][x] = nodes_t[y-1][x]\n",
    "            elif(x == a and y == b):\n",
    "                p1 = u(x,y)*diffCentral(nodes_t[y][x-1], nodes_t[y][x+1], deltaXY)\n",
    "                p2 = v(x,y)*diffCentral(nodes_t[y-1][x], nodes_t[y+1][x], deltaXY)\n",
    "                p3 = diff2Central(nodes_t[y-1][x],nodes_t[y][x],nodes_t[y+1][x], deltaXY)\n",
    "                p4 = diff2Central(nodes_t[y][x-1],nodes_t[y][x],nodes_t[y][x+1], deltaXY)\n",
    "                \n",
    "                nodes_t[y][x] = (Qc - (p1 +  p2 - K*(p3 + p4)))*deltaT + nodes_t[y][x]\n",
    "            else:\n",
    "                \n",
    "                p1 = u(x,y)*diffCentral(nodes_t[y][x-1], nodes_t[y][x+1], deltaXY)\n",
    "                p2 = v(x,y)*diffCentral(nodes_t[y-1][x], nodes_t[y+1][x], deltaXY)\n",
    "                p3 = diff2Central(nodes_t[y-1][x],nodes_t[y][x],nodes_t[y+1][x], deltaXY)\n",
    "                p4 = diff2Central(nodes_t[y][x-1],nodes_t[y][x],nodes_t[y][x+1], deltaXY)\n",
    "\n",
    "                nodes_t[y][x] = (- (p1 +  p2 -K*(p3 + p4)))*deltaT + nodes_t[y][x] \n",
    "            \n",
    "\n",
    "   \n",
    "    return nodes_t\n",
    "\n",
    "#\n",
    "# Nodes: Lista de nós a ser calculada ; k: Numero máximo de iterações para resolução\n",
    "# \n",
    "#\n",
    "def doSomething(nodes_t,time):\n",
    "    for l in range(len(time)):\n",
    "        \n",
    "        if(time[l]<Tq):\n",
    "            nodes_t = calcDiff2D(nodes_t, Qc)\n",
    "        else:\n",
    "            nodes_t = calcDiff2D(nodes_t, 0)\n",
    "       \n",
    "        plt.imshow(nodes_t,cmap=\"winter\",interpolation=\"nearest\", vmin=0, vmax=15) \n",
    "        plt.axis(\"off\")\n",
    "        plt.colorbar()\n",
    "        plt.savefig(f\"./img/nodes{l}.png\", dpi = 72)\n",
    "        plt.close()\n",
    "\n",
    "    \n",
    "    return nodes_t\n"
   ]
  },
  {
   "cell_type": "code",
   "execution_count": 6,
   "metadata": {},
   "outputs": [
    {
     "data": {
      "image/png": "[encoded data removed]",
      "text/plain": [
       "<Figure size 432x288 with 1 Axes>"
      ]
     },
     "metadata": {
      "needs_background": "light"
     },
     "output_type": "display_data"
    },
    {
     "name": "stdout",
     "output_type": "stream",
     "text": [
      "CPU times: user 1min 6s, sys: 7.74 s, total: 1min 14s\n",
      "Wall time: 26.4 s\n"
     ]
    }
   ],
   "source": [
    "%%time\n",
    "nodeMatrix = np.zeros(shape =(len(X), len(Y)))\n",
    "nodeMatrix = doSomething(nodeMatrix,t)\n",
    "\n",
    "\n",
    "plt.imshow(nodeMatrix,cmap=\"winter\",interpolation=\"nearest\")\n",
    "plt.axis(\"off\")\n",
    "plt.savefig(\"archive\", dpi = 72)\n",
    "plt.show()\n"
   ]
  },
  {
   "cell_type": "code",
   "execution_count": 7,
   "metadata": {},
   "outputs": [
    {
     "data": {
      "image/png": "[encoded data removed]",
      "text/plain": [
       "<Figure size 432x288 with 2 Axes>"
      ]
     },
     "metadata": {
      "needs_background": "light"
     },
     "output_type": "display_data"
    }
   ],
   "source": [
    "# nodeMatrix\n",
    "copya = nodeMatrix.copy()\n",
    "nodeMatrix[8][10] = 0\n",
    "plt.imshow(nodeMatrix,cmap=\"winter\",interpolation=\"nearest\",vmin=0, vmax=150)\n",
    "plt.axis(\"off\")\n",
    "plt.colorbar()\n",
    "plt.savefig(\"archive\", dpi = 72)\n",
    "plt.show()\n"
   ]
  },
  {
   "cell_type": "code",
   "execution_count": 8,
   "metadata": {},
   "outputs": [],
   "source": [
    "#O valor de copya é o ponto destacado em preto\n",
    "# copya[1][10]"
   ]
  },
  {
   "cell_type": "code",
   "execution_count": 9,
   "metadata": {},
   "outputs": [],
   "source": [
    "\n",
    "# nodeMatrix[8][10] = 0"
   ]
  },
  {
   "cell_type": "code",
   "execution_count": 10,
   "metadata": {},
   "outputs": [],
   "source": [
    "# plt.imshow(copya,cmap=\"hot\",interpolation=\"nearest\",vmin=0, vmax=310)\n",
    "# plt.axis(\"off\")\n",
    "# plt.colorbar()\n",
    "# plt.savefig(\"archive\", dpi = 72)\n",
    "# plt.show()"
   ]
  },
  {
   "cell_type": "code",
   "execution_count": 15,
   "metadata": {},
   "outputs": [],
   "source": [
    "import imageio\n",
    "with imageio.get_writer('movie.gif', mode='I', duration=0.05) as writer:\n",
    "    for i in range(0,len(t),2):\n",
    "        image = imageio.imread(f\"./img/nodes{i}.png\")\n",
    "        if(image is not None):\n",
    "            writer.append_data(image)"
   ]
  },
  {
   "cell_type": "code",
   "execution_count": 16,
   "metadata": {},
   "outputs": [],
   "source": [
    "!rm ./img/nodes*.png"
   ]
  },
  {
   "cell_type": "code",
   "execution_count": 13,
   "metadata": {},
   "outputs": [],
   "source": [
    "!open ."
   ]
  },
  {
   "cell_type": "code",
   "execution_count": 14,
   "metadata": {},
   "outputs": [
    {
     "data": {
      "text/plain": [
       "3.141592653589793"
      ]
     },
     "execution_count": 14,
     "metadata": {},
     "output_type": "execute_result"
    }
   ],
   "source": [
    "math.pi"
   ]
  },
  {
   "cell_type": "code",
   "execution_count": null,
   "metadata": {},
   "outputs": [],
   "source": []
  },
  {
   "cell_type": "code",
   "execution_count": null,
   "metadata": {},
   "outputs": [],
   "source": []
  }
 ],
 "metadata": {
  "kernelspec": {
   "display_name": "Python 3",
   "language": "python",
   "name": "python3"
  },
  "language_info": {
   "codemirror_mode": {
    "name": "ipython",
    "version": 3
   },
   "file_extension": ".py",
   "mimetype": "text/x-python",
   "name": "python",
   "nbconvert_exporter": "python",
   "pygments_lexer": "ipython3",
   "version": "3.7.3"
  }
 },
 "nbformat": 4,
 "nbformat_minor": 2
}
